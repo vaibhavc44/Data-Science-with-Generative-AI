{
 "cells": [
  {
   "cell_type": "code",
   "execution_count": 2,
   "metadata": {},
   "outputs": [],
   "source": [
    "#Que 1: What is NumPy, and why is it widely used in Python?\n",
    "#Ans: NumPy (Numerical Python) is a library for numerical computing in Python, offering efficient array operations, mathematical functions, and support for multidimensional arrays.\n",
    "\n"
   ]
  },
  {
   "cell_type": "code",
   "execution_count": 3,
   "metadata": {},
   "outputs": [],
   "source": [
    "#Que 2: How does broadcasting work in NumPy?\n",
    "#Ans: Broadcasting allows NumPy to perform element-wise operations on arrays of different shapes by automatically expanding them to a compatible shape.\n",
    "\n"
   ]
  },
  {
   "cell_type": "code",
   "execution_count": 4,
   "metadata": {},
   "outputs": [],
   "source": [
    "#Que 3: What is a Pandas DataFrame?\n",
    "#Ans: A Pandas DataFrame is a 2D labeled data structure similar to an Excel spreadsheet, where data is stored in rows and columns.\n"
   ]
  },
  {
   "cell_type": "code",
   "execution_count": 5,
   "metadata": {},
   "outputs": [],
   "source": [
    "#Que 4: Explain the use of the groupby() method in Pandas.\n",
    "#Ans: The groupby() method is used to group data based on a column and perform aggregate functions like sum, mean, or count on each group.\n",
    "\n"
   ]
  },
  {
   "cell_type": "code",
   "execution_count": 6,
   "metadata": {},
   "outputs": [],
   "source": [
    "#Que 5: Why is Seaborn preferred for statistical visualizations?\n",
    "#Ans: Seaborn provides built-in themes, better aesthetics, and advanced statistical plotting functions, making it ideal for analyzing data distributions and relationships.\n",
    "\n"
   ]
  },
  {
   "cell_type": "code",
   "execution_count": 7,
   "metadata": {},
   "outputs": [],
   "source": [
    "#Que 6: What are the differences between NumPy arrays and Python lists?\n",
    "#Ans: NumPy arrays are faster, consume less memory, support vectorized operations, and allow multi-dimensional data, unlike Python lists.\n",
    "\n"
   ]
  },
  {
   "cell_type": "code",
   "execution_count": 8,
   "metadata": {},
   "outputs": [],
   "source": [
    "#Que 7: What is a heatmap, and when should it be used?\n",
    "#Ans: A heatmap is a visualization that represents data values using color gradients, useful for showing correlations and density in datasets.\n",
    "\n"
   ]
  },
  {
   "cell_type": "code",
   "execution_count": 9,
   "metadata": {},
   "outputs": [],
   "source": [
    "#Que 8: What does the term “vectorized operation” mean in NumPy?\n",
    "#Ans: A vectorized operation applies a function to an entire array without explicit loops, making computations much faster.\n",
    "\n"
   ]
  },
  {
   "cell_type": "code",
   "execution_count": 10,
   "metadata": {},
   "outputs": [],
   "source": [
    "#Que 9: How does Matplotlib differ from Plotly?\n",
    "#Ans: Matplotlib produces static, customizable plots, while Plotly creates interactive, web-friendly visualizations with zoom and hover functionalities.\n",
    "\n"
   ]
  },
  {
   "cell_type": "code",
   "execution_count": 11,
   "metadata": {},
   "outputs": [],
   "source": [
    "#Que 10: What is the significance of hierarchical indexing in Pandas?\n",
    "#Ans: Hierarchical indexing allows multiple levels of indexing in a DataFrame, enabling more complex data representations and easy subsetting.\n",
    "\n"
   ]
  },
  {
   "cell_type": "code",
   "execution_count": 12,
   "metadata": {},
   "outputs": [],
   "source": [
    "#Que 11: What is the role of Seaborn’s pairplot() function?\n",
    "#Ans: The pairplot() function creates pairwise scatterplots and histograms to visualize relationships between numerical variables in a dataset.\n",
    "\n"
   ]
  },
  {
   "cell_type": "code",
   "execution_count": 13,
   "metadata": {},
   "outputs": [],
   "source": [
    "#Que 12: What is the purpose of the describe() function in Pandas?\n",
    "#Ans: The describe() function provides summary statistics such as mean, median, and standard deviation for numerical columns in a DataFrame.\n",
    "\n"
   ]
  },
  {
   "cell_type": "code",
   "execution_count": 15,
   "metadata": {},
   "outputs": [
    {
     "data": {
      "text/plain": [
       "' Que 13: Why is handling missing data important in Pandas?\\nAns: Handling missing data prevents inaccurate analysis, as missing values can distort statistical results and machine learning models. '"
      ]
     },
     "execution_count": 15,
     "metadata": {},
     "output_type": "execute_result"
    }
   ],
   "source": [
    "''' Que 13: Why is handling missing data important in Pandas?\n",
    "Ans: Handling missing data prevents inaccurate analysis, as missing values can distort statistical results and machine learning models. '''\n",
    "\n"
   ]
  },
  {
   "cell_type": "code",
   "execution_count": 16,
   "metadata": {},
   "outputs": [
    {
     "data": {
      "text/plain": [
       "'Que 14: What are the benefits of using Plotly for data visualization?\\nAns: Plotly offers interactive, high-quality visualizations that are web-compatible and allow zooming, panning, and tooltips. '"
      ]
     },
     "execution_count": 16,
     "metadata": {},
     "output_type": "execute_result"
    }
   ],
   "source": [
    "'''Que 14: What are the benefits of using Plotly for data visualization?\n",
    "Ans: Plotly offers interactive, high-quality visualizations that are web-compatible and allow zooming, panning, and tooltips. ''' \n"
   ]
  },
  {
   "cell_type": "code",
   "execution_count": 17,
   "metadata": {},
   "outputs": [],
   "source": [
    "\n",
    "#Que 15: How does NumPy handle multidimensional arrays?\n",
    "#Ans: NumPy stores multidimensional arrays efficiently using a contiguous memory layout and provides methods for easy reshaping and slicing.\n",
    "\n"
   ]
  },
  {
   "cell_type": "code",
   "execution_count": 18,
   "metadata": {},
   "outputs": [],
   "source": [
    "#Que 16: What is the role of Bokeh in data visualization?\n",
    "#Ans: Bokeh is a Python library for interactive visualizations, particularly suited for web-based dashboards with real-time updates.\n",
    "\n"
   ]
  },
  {
   "cell_type": "code",
   "execution_count": 19,
   "metadata": {},
   "outputs": [],
   "source": [
    "#Que 17: Explain the difference between apply() and map() in Pandas.\n",
    "#Ans: apply() works on both rows and columns of a DataFrame, while map() is used for element-wise transformations in a Series.\n",
    "\n"
   ]
  },
  {
   "cell_type": "code",
   "execution_count": 20,
   "metadata": {},
   "outputs": [],
   "source": [
    "#Que 18: What are some advanced features of NumPy?\n",
    "#Ans: NumPy supports broadcasting, memory-efficient slicing, linear algebra operations, Fast Fourier Transform (FFT), and random number generation.\n",
    "\n"
   ]
  },
  {
   "cell_type": "code",
   "execution_count": 21,
   "metadata": {},
   "outputs": [],
   "source": [
    "#Que 19: How does Pandas simplify time series analysis?\n",
    "#Ans: Pandas provides built-in time-based indexing, resampling, rolling windows, and datetime manipulation functions for time series analysis.\n",
    "\n"
   ]
  },
  {
   "cell_type": "code",
   "execution_count": 22,
   "metadata": {},
   "outputs": [],
   "source": [
    "#Que 20: What is the role of a pivot table in Pandas?\n",
    "#Ans: A pivot table in Pandas reshapes data by summarizing values based on categorical variables, similar to Excel pivot tables.\n",
    "\n"
   ]
  },
  {
   "cell_type": "code",
   "execution_count": 23,
   "metadata": {},
   "outputs": [],
   "source": [
    "#Que 21: Why is NumPy’s array slicing faster than Python’s list slicing?\n",
    "#Ans: NumPy arrays use a contiguous memory layout and perform slicing as a view (without copying data), making it much faster than Python lists.\n",
    "\n"
   ]
  },
  {
   "cell_type": "code",
   "execution_count": null,
   "metadata": {},
   "outputs": [],
   "source": [
    "#Que 22: What are some common use cases for Seaborn?\n",
    "#Ans: Seaborn is commonly used for statistical data visualization, including correlation heatmaps, distribution plots, categorical plots, and regression plots."
   ]
  }
 ],
 "metadata": {
  "kernelspec": {
   "display_name": "Python 3",
   "language": "python",
   "name": "python3"
  },
  "language_info": {
   "codemirror_mode": {
    "name": "ipython",
    "version": 3
   },
   "file_extension": ".py",
   "mimetype": "text/x-python",
   "name": "python",
   "nbconvert_exporter": "python",
   "pygments_lexer": "ipython3",
   "version": "3.13.1"
  }
 },
 "nbformat": 4,
 "nbformat_minor": 2
}
